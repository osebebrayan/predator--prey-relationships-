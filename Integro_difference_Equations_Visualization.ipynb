{
  "nbformat": 4,
  "nbformat_minor": 0,
  "metadata": {
    "colab": {
      "provenance": []
    },
    "kernelspec": {
      "name": "python3",
      "display_name": "Python 3"
    },
    "language_info": {
      "name": "python"
    }
  },
  "cells": [
    {
      "cell_type": "code",
      "source": [
        "import numpy as np\n",
        "import matplotlib.pyplot as plt\n",
        "from scipy.ndimage import gaussian_filter\n",
        "\n",
        "# Parameters\n",
        "a = 4.5\n",
        "b = 0.68\n",
        "L = 10\n",
        "alpha_N = 0.1\n",
        "alpha_P = 0.125\n",
        "\n",
        "# Equilibrium values\n",
        "N_star = (a + np.sqrt(a**2 - 4*b)) / (2 * b)\n",
        "P_star = np.log(a / b + 1)\n",               
        "\n",
        "# Domain size\n",
        "K = 100\n",
        "x = np.linspace(-L, L, K)\n",
        "y = np.linspace(-L, L, K)\n",
        "X, Y = np.meshgrid(x, y)\n",
        "\n",
        "# Initialize populations\n",
        "def initialize_populations(symmetrical=True):\n",
        "    N = np.zeros((K, K))\n",
        "    P = np.zeros((K, K))\n",
        "    if symmetrical:\n",
        "        N[(X >= -1) & (X <= 1) & (Y >= -1) & (Y <= 1)] = N_star / 2\n",
        "        P[(X >= -0.1) & (X <= 0.1) & (Y >= -1) & (Y <= 1)] = P_star\n",
        "    else:\n",
        "        N[(X >= -1) & (X <= 1) & (Y >= -1) & (Y <= 1)] = N_star / 2\n",
        "        P[(X >= -1) & (X <= 0.2) & (Y >= -0.9) & (Y <= 0.4)] = P_star\n",
        "    return N, P\n",
        "\n",
        "# Dispersal function using Gaussian kernel\n",
        "def dispersal(population, alpha):\n",
        "    return gaussian_filter(population, sigma=alpha * K / (2 * L))\n",
        "\n",
        "# Population dynamics functions\n",
        "def f(N, P):\n",
        "    return (a * N**2) / (1 + b * N**2) * np.exp(-P)\n",
        "\n",
        "def g(N, P):\n",
        "    return N * P\n",
        "\n",
        "# Simulation\n",
        "def simulate(time_steps, alpha_N, alpha_P, symmetrical=True):\n",
        "    N, P = initialize_populations(symmetrical)\n",
        "    for t in range(time_steps):\n",
        "        N = dispersal(f(N, P), alpha_N)\n",
        "        P = dispersal(g(N, P), alpha_P)\n",
        "        if t % (time_steps // 5) == 0:\n",
        "            yield N, t\n",
        "\n",
        "# Visualization\n",
        "def visualize(time_steps, alpha_N, alpha_P, symmetrical=True):\n",
        "    plt.figure(figsize=(15, 10))\n",
        "    for i, (N, t) in enumerate(simulate(time_steps, alpha_N, alpha_P, symmetrical)):\n",
        "        plt.subplot(2, 3, i+1)\n",
        "        plt.imshow(N, extent=(-L, L, -L, L), origin='lower', cmap='gray')\n",
        "        plt.colorbar()\n",
        "        plt.title(f\"t = {t}, alpha_N = {alpha_N}, alpha_P = {alpha_P}, {'Symmetrical' if symmetrical else 'Asymmetrical'}\")\n",
        "    plt.tight_layout()\n",
        "    plt.show()\n",
        "\n",
        "# Run and visualize simulations\n",
        "visualize(200, 0.1, 0.125, symmetrical=True)\n",
        "visualize(200, 0.1, 0.125, symmetrical=False)\n"
      ],
      "metadata": {
        "colab": {
          "base_uri": "https://localhost:8080/",
          "height": 1000
        },
        "id": "OdcmIHEzcBPV",
        "outputId": "30b1898a-26be-4455-ae5d-a8ad565d7bde"
      },
      "execution_count": null,
      "outputs": [
        {
          "output_type": "display_data",
          "data": {
            "text/plain": [
              "<Figure size 1500x1000 with 10 Axes>"
            ],
  
          "metadata": {}
        },
        {
          "output_type": "display_data",
          "data": {
            "text/plain": [
              "<Figure size 1500x1000 with 10 Axes>"
            ],
          
          "metadata": {}
        }
      ]
    },
    {
      "cell_type": "markdown",
      "source": [
        "# Sensitivity of Initial Conditions"
      ],
      "metadata": {
        "id": "iXiAa9wcZHIT"
      }
    },
    {
      "cell_type": "code",
      "source": [
        "import numpy as np\n",
        "import matplotlib.pyplot as plt\n",
        "from scipy.ndimage import gaussian_filter\n"
      ],
      "metadata": {
        "id": "I90nGhkemNs9"
      },
      "execution_count": null,
      "outputs": []
    },
    {
      "cell_type": "code",
      "source": [
        "# Parameters\n",
        "a = 4.5\n",
        "b = 0.68\n",
        "L = 10\n",
        "alpha_N = 0.1\n",
        "alpha_P = 0.125\n",
        "dx = 0.1\n",
        "dy = 0.1\n",
        "\n",
        "# Domain\n",
        "x = np.arange(-L, L, dx)\n",
        "y = np.arange(-L, L, dy)\n",
        "X, Y = np.meshgrid(x, y)\n",
        "\n",
        "# Local interaction functions\n",
        "def f(N, P):\n",
        "    return (a * N**2) / (1 + b * N**2) * np.exp(-P)\n",
        "\n",
        "def g(N, P):\n",
        "    return N * P\n",
        "\n",
        "# Dispersal kernels\n",
        "def K_N(x, y):\n",
        "    return (1 / (2 * np.pi * alpha_N**2)) * np.exp(-((x**2 + y**2) / (2 * alpha_N**2)))\n",
        "\n",
        "def K_P(x, y):\n",
        "    return (1 / (2 * np.pi * alpha_P**2)) * np.exp(-((x**2 + y**2) / (2 * alpha_P**2)))\n"
      ],
      "metadata": {
        "id": "2i81hqhlmO5v"
      },
      "execution_count": null,
      "outputs": []
    },
    {
      "cell_type": "code",
      "source": [
        "# Initial conditions\n",
        "N_star = (a + np.sqrt(a**2 - 4*b)) / (2*b)\n",
        "P_star = np.log(a / (b + 1))\n",
        "\n",
        "N0 = np.zeros_like(X)\n",
        "P0 = np.zeros_like(X)\n",
        "\n",
        "N0[(X >= -1) & (X <= 1) & (Y >= -1) & (Y <= 1)] = N_star / 2\n",
        "P0[(X >= -0.1) & (X <= 0.1) & (Y >= -1) & (Y <= 1)] = P_star\n"
      ],
      "metadata": {
        "id": "SXEtkKkjmOUY"
      },
      "execution_count": null,
      "outputs": []
    },
    {
      "cell_type": "code",
      "source": [
        "def update_population(N, P):\n",
        "    N_new = np.zeros_like(N)\n",
        "    P_new = np.zeros_like(P)\n",
        "\n",
        "    for i in range(N.shape[0]):\n",
        "        for j in range(N.shape[1]):\n",
        "            convolution_N = np.sum(K_N(X - x[i], Y - y[j]) * f(N, P) * dx * dy)\n",
        "            convolution_P = np.sum(K_P(X - x[i], Y - y[j]) * g(N, P) * dx * dy)\n",
        "\n",
        "            N_new[i, j] = convolution_N\n",
        "            P_new[i, j] = convolution_P\n",
        "\n",
        "    return N_new, P_new\n"
      ],
      "metadata": {
        "id": "e8AubnrhmT9O"
      },
      "execution_count": null,
      "outputs": []
    },
    {
      "cell_type": "code",
      "source": [
        "# Number of generations\n",
        "generations = 50\n",
        "\n",
        "# populations over time\n",
        "N_pop = [N0]\n",
        "P_pop = [P0]\n",
        "\n",
        "N, P = N0, P0\n",
        "for t in range(generations):\n",
        "    N, P = update_population(N, P)\n",
        "    N_pop.append(N)\n",
        "    P_pop.append(P)\n"
      ],
      "metadata": {
        "id": "7x-yHzOImXbP"
      },
      "execution_count": null,
      "outputs": []
    },
    {
      "cell_type": "code",
      "source": [
        "def plot_populations(N_pop, P_pop, generations, interval=10):\n",
        "    for t in range(0, generations + 1, interval):\n",
        "        plt.figure(figsize=(12, 5))\n",
        "\n",
        "        plt.subplot(1, 2, 1)\n",
        "        plt.title(f\"Prey Population at Generation {t}\")\n",
        "        plt.imshow(N_pop[t], extent=(-L, L, -L, L), origin='lower')\n",
        "        plt.colorbar()\n",
        "\n",
        "        plt.subplot(1, 2, 2)\n",
        "        plt.title(f\"Predator Population at Generation {t}\")\n",
        "        plt.imshow(P_pop[t], extent=(-L, L, -L, L), origin='lower')\n",
        "        plt.colorbar()\n",
        "\n",
        "        plt.show()\n",
        "\n",
        "# Plot the populations\n",
        "plot_populations(N_pop, P_pop, generations)\n"
      ],
      "metadata": {
        "colab": {
          "base_uri": "https://localhost:8080/",
          "height": 1000
        },
        "id": "FH8lYfdHmZnN",
        "outputId": "22e51211-444f-4a95-82a5-5b205b0e9f79"
      },
      "execution_count": null,
      "outputs": [
        {
          "output_type": "display_data",
          "data": {
            "text/plain": [
              "<Figure size 1200x500 with 4 Axes>"
            ],
           
          "metadata": {}
        },
        {
          "output_type": "display_data",
          "data": {
            "text/plain": [
              "<Figure size 1200x500 with 4 Axes>"
            ],
          
          "metadata": {}
        },
        {
          "output_type": "display_data",
          "data": {
            "text/plain": [
              "<Figure size 1200x500 with 4 Axes>"
            ],
            ",
          "metadata": {}
        },
        {
          "output_type": "display_data",
          "data": {
            "text/plain": [
              "<Figure size 1200x500 with 4 Axes>"
            
          "metadata": {}
        },
        {
          "output_type": "display_data",
          "data": {
            "text/plain": [
              "<Figure size 1200x500 with 4 Axes>"
            ],
          
          "metadata": {}
        },
        {
          "output_type": "display_data",
          "data": {
            "text/plain": [
              "<Figure size 1200x500 with 4 Axes>"
            
          "metadata": {}
        }
      ]
    },
    {
      "cell_type": "markdown",
      "source": [
        "# **Rate of spread**"
      ],
      "metadata": {
        "id": "aEDVPYDQZTdJ"
      }
    },
    {
      "cell_type": "code",
      "source": [
        "def calculate_radius(N_pop, threshold):\n",
        "    radius = []\n",
        "    for N in N_pop:\n",
        "        invaded_positions = np.where(N >= threshold)\n",
        "        if len(invaded_positions[0]) > 0:\n",
        "            max_distance = np.max(np.sqrt((X[invaded_positions]**2 + Y[invaded_positions]**2)))\n",
        "            radius.append(max_distance)\n",
        "        else:\n",
        "            radius.append(0)\n",
        "    return radius\n",
        "\n",
        "def plot_radius(radius, generations, interval=10):\n",
        "    plt.figure(figsize=(10, 5))\n",
        "    plt.plot(range(generations + 1), radius, label='Invaded Area Radius')\n",
        "    plt.xlabel('Time')\n",
        "    plt.ylabel('Radius of Invaded Area')\n",
        "    plt.title('Rate of Spread')\n",
        "    plt.legend()\n",
        "    plt.show()\n",
        "\n",
        "# Calculate and plot the radius\n",
        "threshold = 0.01\n",
        "radius = calculate_radius(N_pop, threshold)\n",
        "plot_radius(radius, generations)\n"
      ],
      "metadata": {
        "colab": {
          "base_uri": "https://localhost:8080/",
          "height": 487
        },
        "id": "OUhwt8KjAIz4",
        "outputId": "7fde5847-3e57-4f2b-8da4-537581ad63dc"
      },
      "execution_count": null,
      "outputs": [
        {
          "output_type": "display_data",
          "data": {
            "text/plain": [
              "<Figure size 1000x500 with 1 Axes>"
           
          "metadata": {}
        }
      ]
    },
    {
      "cell_type": "markdown",
      "source": [],
      "metadata": {
        "id": "Z7T9kSNiZYOe"
      }
    },
    {
      "cell_type": "code",
      "source": [
        "generations = len(N_pop) - 1\n",
        "\n",
        "# Calculate central density from stored data\n",
        "central_density = [N[N.shape[0] // 2, N.shape[1] // 2] for N in N_pop]\n",
        "\n",
        "def plot_central_density(central_density, generations):\n",
        "    plt.figure(figsize=(10, 5))\n",
        "    plt.plot(range(generations + 1), central_density, label='Prey Central Density')\n",
        "    plt.xlabel('Time')\n",
        "    plt.ylabel('Prey Central Density')\n",
        "    plt.title('Prey Central Density over Time')\n",
        "    plt.legend()\n",
        "    plt.show()\n",
        "\n",
        "# Plot the central density\n",
        "plot_central_density(central_density, generations)"
      ],
      "metadata": {
        "colab": {
          "base_uri": "https://localhost:8080/",
          "height": 487
        },
        "id": "O3z3XOZqNCMF",
        "outputId": "b505e12a-2873-4a65-a504-9b7d32384820"
      },
      "execution_count": null,
      "outputs": [
        {
          "output_type": "display_data",
          "data": {
            "text/plain": [
              "<Figure size 1000x500 with 1 Axes>"
            ],
           
          "metadata": {}
        }
      ]
    },
    {
      "cell_type": "markdown",
      "source": [
        "# **Predator prey central density**"
      ],
      "metadata": {
        "id": "-bOj7zUOZaBZ"
      }
    },
    {
      "cell_type": "code",
      "source": [
        "import numpy as np\n",
        "import matplotlib.pyplot as plt\n",
        "\n",
        "# Assuming the following are defined and calculated as previously:\n",
        "# - N_pop: List of prey population matrices over generations\n",
        "# - P_pop: List of predator population matrices over generations\n",
        "\n",
        "# Number of generations\n",
        "generations = len(N_pop) - 1\n",
        "\n",
        "# Calculate central density from stored data\n",
        "prey_central_density = [N[N.shape[0] // 2, N.shape[1] // 2] for N in N_pop]\n",
        "predator_central_density = [P[P.shape[0] // 2, P.shape[1] // 2] for P in P_pop]\n",
        "\n",
        "# Intervals to plot\n",
        "intervals = [0, 10, 20, 30, 40, 50]\n",
        "\n",
        "# Plot prey central density over generations at specific intervals\n",
        "plt.figure(figsize=(12, 8))\n",
        "plt.plot(range(generations + 1), prey_central_density, label='Prey Central Density')\n",
        "plt.xlabel('Time')\n",
        "plt.ylabel('Prey Central Density')\n",
        "plt.title('Prey Central Density over Time')\n",
        "plt.legend()\n",
        "plt.show()\n",
        "\n",
        "# Plot predator central density over generations at specific intervals\n",
        "plt.figure(figsize=(12, 8))\n",
        "plt.plot(range(generations + 1), predator_central_density, label='Predator Central Density')\n",
        "plt.xlabel('Time')\n",
        "plt.ylabel('Predator Central Density')\n",
        "plt.title('Predator Central Density over Time')\n",
        "plt.legend()\n",
        "plt.show()\n",
        "\n",
        "# Combined plot for prey and predator central densities\n",
        "def plot_central_density_trends(prey_density, predator_density, generations):\n",
        "    plt.figure(figsize=(12, 8))\n",
        "    plt.plot(range(generations + 1), prey_density, label='Prey Central Density')\n",
        "    plt.plot(range(generations + 1), predator_density, label='Predator Central Density')\n",
        "    plt.xlabel('Time')\n",
        "    plt.ylabel('Central Density')\n",
        "    plt.title('Central Density Trends Over Time')\n",
        "    plt.legend()\n",
        "    plt.show()\n",
        "\n",
        "# Plot the trend lines of central density over time\n",
        "plot_central_density_trends(prey_central_density, predator_central_density, generations)\n"
      ],
      "metadata": {
        "colab": {
          "base_uri": "https://localhost:8080/",
          "height": 1000
        },
        "id": "lDY75NL0Op5C",
        "outputId": "d5fdb868-7cce-42cb-cb10-c235939af1b0"
      },
      "execution_count": null,
      "outputs": [
        {
          "output_type": "display_data",
          "data": {
            "text/plain": [
              "<Figure size 1200x800 with 1 Axes>"
           
          "metadata": {}
        },
        {
          "output_type": "display_data",
          "data": {
            "text/plain": [
              "<Figure size 1200x800 with 1 Axes>"
           
          "metadata": {}
        },
        {
          "output_type": "display_data",
          "data": {
            "text/plain": [
              "<Figure size 1200x800 with 1 Axes>"
         
          "metadata": {}
        }
      ]
    },
    {
      "cell_type": "code",
      "source": [
        "intervals = [1, 10, 20, 30, 40, 50]\n",
        "\n",
        "# Function to plot spatial distribution heatmaps\n",
        "def plot_spatial_distribution(populations, intervals, title_prefix):\n",
        "    for t in intervals:\n",
        "        plt.figure(figsize=(8, 6))\n",
        "        plt.imshow(populations[t], cmap='viridis', origin='lower')\n",
        "        plt.colorbar(label='Density')\n",
        "        plt.title(f'{title_prefix} Spatial Distribution at Generation {t}')\n",
        "        plt.xlabel('X')\n",
        "        plt.ylabel('Y')\n",
        "        plt.show()\n",
        "\n",
        "# Plot spatial distribution for prey\n",
        "plot_spatial_distribution(N_pop, intervals, 'Prey')\n",
        "\n",
        "# Plot spatial distribution for predator\n",
        "plot_spatial_distribution(P_pop, intervals, 'Predator')"
      ],
      "metadata": {
        "colab": {
          "base_uri": "https://localhost:8080/",
          "height": 1000
        },
        "id": "Ye2BKBZgZpFE",
        "outputId": "b7e0a710-acf3-4cca-987d-0647772c4a6a"
      },
      "execution_count": null,
      "outputs": [
        {
          "output_type": "display_data",
          "data": {
            "text/plain": [
              "<Figure size 800x600 with 2 Axes>"
            ],
           
          "metadata": {}
        },
        {
          "output_type": "display_data",
          "data": {
            "text/plain": [
              "<Figure size 800x600 with 2 Axes>"
           
          "metadata": {}
        },
        {
          "output_type": "display_data",
          "data": {
            "text/plain": [
              "<Figure size 800x600 with 2 Axes>"
            
          "metadata": {}
        },
        {
          "output_type": "display_data",
          "data": {
            "text/plain": [
         
          "metadata": {}
        },
        {
          "output_type": "display_data",
          "data": {
            "text/plain": [
              "<Figure size 800x600 with 2 Axes>"
            ],
           
          "metadata": {}
        },
        {
          "output_type": "display_data",
          "data": {
            "text/plain": [
              "<Figure size 800x600 with 2 Axes>"
            ],
           
          "metadata": {}
        },
        {
          "output_type": "display_data",
          "data": {
            "text/plain": [
              "<Figure size 800x600 with 2 Axes>"
            ],
           
          "metadata": {}
        },
        {
          "output_type": "display_data",
          "data": {
            "text/plain": [
              "<Figure size 800x600 with 2 Axes>"
            
          "metadata": {}
        },
        {
          "output_type": "display_data",
          "data": {
            "text/plain": [
              "<Figure size 800x600 with 2 Axes>"
           
          "metadata": {}
        },
        {
          "output_type": "display_data",
          "data": {
            "text/plain": [
              "<Figure size 800x600 with 2 Axes>"
           
          "metadata": {}
        },
        {
          "output_type": "display_data",
          "data": {
            "text/plain": [
              "<Figure size 800x600 with 2 Axes>"
          
          "metadata": {}
        },
        {
          "output_type": "display_data",
          "data": {
            "text/plain": [
            
          "metadata": {}
        }
      ]
    },
    {
      "cell_type": "markdown",
      "source": [
        "# **Sensitivity  Tests**"
      ],
      "metadata": {
        "id": "fNO5nYxAZ-rZ"
      }
    },
    {
      "cell_type": "code",
      "source": [
        "perturbation = 0.01\n",
        "\n",
        "N0_perturbed = N0 + perturbation * np.random.normal(size=N0.shape)\n",
        "P0_perturbed = P0 + perturbation * np.random.normal(size=P0.shape)\n",
        "\n",
        "N0_perturbed = np.clip(N0_perturbed, 0, None)\n",
        "P0_perturbed = np.clip(P0_perturbed, 0, None)\n"
      ],
      "metadata": {
        "id": "mMb7X8kZZ74W"
      },
      "execution_count": null,
      "outputs": []
    },
    {
      "cell_type": "code",
      "source": [
        "\n",
        "generations = 50\n",
        "\n",
        "N_pop_perturbed = [N0_perturbed]\n",
        "P_pop_perturbed = [P0_perturbed]\n",
        "central_density_perturbed = [N0_perturbed[N0_perturbed.shape[0] // 2, N0_perturbed.shape[1] // 2]]\n",
        "\n",
        "N_perturbed, P_perturbed = N0_perturbed, P0_perturbed\n",
        "for t in range(generations):\n",
        "    N_perturbed, P_perturbed = update_population(N_perturbed, P_perturbed)\n",
        "    N_pop_perturbed.append(N_perturbed)\n",
        "    P_pop_perturbed.append(P_perturbed)\n",
        "    central_density_perturbed.append(N_perturbed[N_perturbed.shape[0] // 2, N_perturbed.shape[1] // 2])\n"
      ],
      "metadata": {
        "id": "PO6Ndk3haGmm"
      },
      "execution_count": null,
      "outputs": []
    },
    {
      "cell_type": "code",
      "source": [
        "# central density for the original data\n",
        "central_density_original = [N[N.shape[0] // 2, N.shape[1] // 2] for N in N_pop]\n",
        "\n",
        "# central density for the perturbed data\n",
        "central_density_perturbed = [N[N.shape[0] // 2, N.shape[1] // 2] for N in N_pop_perturbed]\n",
        "\n",
        "# Plot central density comparison\n",
        "plt.figure(figsize=(12, 6))\n",
        "plt.plot(range(generations + 1), central_density_original, label='Original Prey Central Density', linestyle='-', marker='o')\n",
        "plt.plot(range(generations + 1), central_density_perturbed, label='Perturbed Prey Central Density', linestyle='--', marker='x')\n",
        "plt.xlabel('Time')\n",
        "plt.ylabel('Prey Central Density')\n",
        "plt.title('Sensitivity of Prey Central Density to Initial Conditions')\n",
        "plt.legend()\n",
        "plt.show()\n"
      ],
      "metadata": {
        "colab": {
          "base_uri": "https://localhost:8080/",
          "height": 564
        },
        "id": "itghiRPqabD9",
        "outputId": "89bf84b1-43d6-4e1e-bad6-c1fe8b9b9126"
      },
      "execution_count": null,
      "outputs": [
        {
          "output_type": "display_data",
          "data": {
            "text/plain": [
              "<Figure size 1200x600 with 1 Axes>"
           
          "metadata": {}
        }
      ]
    },
    {
      "cell_type": "code",
      "source": [
        "# Central density for the original predator data\n",
        "central_density_original_predator = [P[P.shape[0] // 2, P.shape[1] // 2] for P in P_pop]\n",
        "\n",
        "# Central density for the perturbed predator data\n",
        "central_density_perturbed_predator = [P[P.shape[0] // 2, P.shape[1] // 2] for P in P_pop_perturbed]\n",
        "\n",
        "# Plot predator central density comparison\n",
        "plt.figure(figsize=(12, 6))\n",
        "plt.plot(range(generations + 1), central_density_original_predator, label='Original Predator Central Density', linestyle='-', marker='o')\n",
        "plt.plot(range(generations + 1), central_density_perturbed_predator, label='Perturbed Predator Central Density', linestyle='--', marker='x')\n",
        "plt.xlabel('Time')\n",
        "plt.ylabel('Predator Central Density')\n",
        "plt.title('Sensitivity of Predator Central Density to Initial Conditions')\n",
        "plt.legend()\n",
        "plt.show()\n"
      ],
      "metadata": {
        "colab": {
          "base_uri": "https://localhost:8080/",
          "height": 564
        },
        "id": "6RirgAJ7z5Yq",
        "outputId": "bcd36f04-fe61-46fb-d9fd-3aff6dceb3bf"
      },
      "execution_count": null,
      "outputs": [
        {
          "output_type": "display_data",
          "data": {
            "text/plain": [
              "<Figure size 1200x600 with 1 Axes>"
            ],
            
          "metadata": {}
        }
      ]
    },
    {
      "cell_type": "markdown",
      "source": [
        "**ORIGINAL VS PERTURBED**"
      ],
      "metadata": {
        "id": "UeDb8axS2RGb"
      }
    },
    {
      "cell_type": "code",
      "source": [
        "import matplotlib.pyplot as plt\n",
        "\n",
        "# Intervals to plot\n",
        "intervals = [1, 10, 20, 30, 40, 50]\n",
        "\n",
        "# Function to plot spatial distribution heatmaps\n",
        "def plot_spatial_distribution_comparison(original_pop, perturbed_pop, intervals, title_prefix):\n",
        "    for t in intervals:\n",
        "        fig, axs = plt.subplots(1, 2, figsize=(16, 6))\n",
        "\n",
        "        # Original\n",
        "        im0 = axs[0].imshow(original_pop[t], cmap='viridis', origin='lower')\n",
        "        axs[0].set_title(f'{title_prefix} Original at Generation {t}')\n",
        "        axs[0].set_xlabel('X')\n",
        "        axs[0].set_ylabel('Y')\n",
        "        fig.colorbar(im0, ax=axs[0], label='Density')\n",
        "\n",
        "        # Perturbed\n",
        "        im1 = axs[1].imshow(perturbed_pop[t], cmap='viridis', origin='lower')\n",
        "        axs[1].set_title(f'{title_prefix} Perturbed at Generation {t}')\n",
        "        axs[1].set_xlabel('X')\n",
        "        axs[1].set_ylabel('Y')\n",
        "        fig.colorbar(im1, ax=axs[1], label='Density')\n",
        "\n",
        "        plt.show()\n",
        "\n",
        "# Plot spatial distribution comparison for prey\n",
        "plot_spatial_distribution_comparison(N_pop, N_pop_perturbed, intervals, 'Prey')\n",
        "\n",
        "# Plot spatial distribution comparison for predator\n",
        "plot_spatial_distribution_comparison(P_pop, P_pop_perturbed, intervals, 'Predator')\n"
      ],
      "metadata": {
        "colab": {
          "base_uri": "https://localhost:8080/",
          "height": 1000
        },
        "id": "ICD2Hs2FatkL",
        "outputId": "ff86b348-701c-455a-ca20-bc1cb404c147"
      },
      "execution_count": null,
      "outputs": [
        {
          "output_type": "display_data",
          "data": {
            "text/plain": [
              "<Figure size 1600x600 with 4 Axes>"
            ],
            
          "metadata": {}
        },
        {
          "output_type": "display_data",
          "data": {
            "text/plain": [
              "<Figure size 1600x600 with 4 Axes>"
            
          "metadata": {}
        },
        {
          "output_type": "display_data",
          "data": {
            "text/plain": [

          "metadata": {}
        },
        {
          "output_type": "display_data",
          "data": {
            "text/plain": [
            
          "metadata": {}
        },
        {
          "output_type": "display_data",
          "data": {
            "text/plain": [
          ,
          "metadata": {}
        },
        {
          "output_type": "display_data",
          "data": {
            "text/plain": [
          metadata": {}
        },
        {
          "output_type": "display_data",
          "data": {
            "text/plain": [
              "<Figure size 1600x600 with 4 Axes>"
           
          "metadata": {}
        },
        {
          "output_type": "display_data",
          "data": {
            "text/plain": [
          etadata": {}
        },
        {
          "output_type": "display_data",
          "data": {
            "text/plain": [
            
          "metadata": {} 
        },
        {
          "output_type": "display_data",
          "data": {
            "text/plain": [
           etadata": {}
        },
        {
          "output_type": "display_data",
          "data": {
            "text/plain": [
              "<Figure size 1600x600 with 4 Axes>"
          
          "metadata": {}
        },
        {
          "output_type": "display_data",
          "data": {
            "text/plain": [
            
          "metadata": {}
        }
      ]
    }
  ]
}